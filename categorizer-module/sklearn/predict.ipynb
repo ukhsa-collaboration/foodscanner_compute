{
  "cells": [
    {
      "cell_type": "code",
      "execution_count": 1,
      "source": [
        "from pathlib import Path\r\n",
        "\r\n",
        "import joblib\r\n",
        "import pandas as pd\r\n",
        "\r\n",
        "%load_ext nb_black"
      ],
      "outputs": [
        {
          "output_type": "display_data",
          "data": {
            "text/plain": [
              "<IPython.core.display.Javascript object>"
            ],
            "application/javascript": "\n            setTimeout(function() {\n                var nbb_cell_id = 1;\n                var nbb_unformatted_code = \"from pathlib import Path\\r\\n\\r\\nimport joblib\\r\\nimport pandas as pd\\r\\n\\r\\n%load_ext nb_black\";\n                var nbb_formatted_code = \"from pathlib import Path\\n\\nimport joblib\\nimport pandas as pd\\n\\n%load_ext nb_black\";\n                var nbb_cells = Jupyter.notebook.get_cells();\n                for (var i = 0; i < nbb_cells.length; ++i) {\n                    if (nbb_cells[i].input_prompt_number == nbb_cell_id) {\n                        if (nbb_cells[i].get_text() == nbb_unformatted_code) {\n                             nbb_cells[i].set_text(nbb_formatted_code);\n                        }\n                        break;\n                    }\n                }\n            }, 500);\n            "
          },
          "metadata": {}
        }
      ],
      "metadata": {
        "gather": {
          "logged": 1627579722153
        }
      }
    },
    {
      "cell_type": "markdown",
      "source": [
        "# Predict"
      ],
      "metadata": {}
    },
    {
      "cell_type": "markdown",
      "source": [
        "### Read example JSON file\n",
        "\n",
        "- Parse out all the features as expected by trained models\n",
        "    - `category_level_1`: string category\n",
        "    - `category_level_2`: string category\n",
        "    - `regulated_product_name`: string\n",
        "    - `ingredients`: list of strings. Join with '. '\n",
        "    - `text`: concatenated from `description`, `regulated_product_name`, and `ingredients` with '. '\n",
        "    - `storage_env`: string category\n",
        "    - `pack_type`: string category\n",
        "    - `cooking_type`: a list of categories that only exists if there are cooking types. If it does exist, return the list, otherwise, return a list of 'None'"
      ],
      "metadata": {}
    },
    {
      "cell_type": "code",
      "execution_count": 2,
      "source": [
        "df = (\r\n",
        "    pd.read_json(\r\n",
        "        Path(\r\n",
        "            \"data\",\r\n",
        "            \"trial-json-products.json\",\r\n",
        "        ),\r\n",
        "        orient=\"records\",\r\n",
        "        encoding=\"utf-16\",\r\n",
        "        lines=False,\r\n",
        "    )\r\n",
        "    .set_index(\r\n",
        "        \"pvid\",\r\n",
        "    )\r\n",
        "    .sort_index(\r\n",
        "        ascending=True,\r\n",
        "    )\r\n",
        ")"
      ],
      "outputs": [
        {
          "output_type": "display_data",
          "data": {
            "text/plain": [
              "<IPython.core.display.Javascript object>"
            ],
            "application/javascript": "\n            setTimeout(function() {\n                var nbb_cell_id = 2;\n                var nbb_unformatted_code = \"df = (\\r\\n    pd.read_json(\\r\\n        Path(\\r\\n            \\\"data\\\",\\r\\n            \\\"trial-json-products.json\\\",\\r\\n        ),\\r\\n        orient=\\\"records\\\",\\r\\n        encoding=\\\"utf-16\\\",\\r\\n        lines=False,\\r\\n    )\\r\\n    .set_index(\\r\\n        \\\"pvid\\\",\\r\\n    )\\r\\n    .sort_index(\\r\\n        ascending=True,\\r\\n    )\\r\\n)\";\n                var nbb_formatted_code = \"df = (\\n    pd.read_json(\\n        Path(\\n            \\\"data\\\",\\n            \\\"trial-json-products.json\\\",\\n        ),\\n        orient=\\\"records\\\",\\n        encoding=\\\"utf-16\\\",\\n        lines=False,\\n    )\\n    .set_index(\\n        \\\"pvid\\\",\\n    )\\n    .sort_index(\\n        ascending=True,\\n    )\\n)\";\n                var nbb_cells = Jupyter.notebook.get_cells();\n                for (var i = 0; i < nbb_cells.length; ++i) {\n                    if (nbb_cells[i].input_prompt_number == nbb_cell_id) {\n                        if (nbb_cells[i].get_text() == nbb_unformatted_code) {\n                             nbb_cells[i].set_text(nbb_formatted_code);\n                        }\n                        break;\n                    }\n                }\n            }, 500);\n            "
          },
          "metadata": {}
        }
      ],
      "metadata": {}
    },
    {
      "cell_type": "code",
      "execution_count": 3,
      "source": [
        "df[\"category_level_1\"] = df[\"categories\"].apply(\r\n",
        "    lambda c: c[0][\"description\"],\r\n",
        ")\r\n",
        "\r\n",
        "df[\"category_level_2\"] = df[\"categories\"].apply(\r\n",
        "    lambda c: c[1][\"description\"],\r\n",
        ")\r\n",
        "\r\n",
        "df[\"regulated_product_name\"] = df[\"languages\"].apply(\r\n",
        "    lambda c: c[0][\"groupingSets\"][0][\"attributes\"][\"regulatedProductName\"]\r\n",
        ")\r\n",
        "\r\n",
        "df[\"ingredients\"] = df[\"languages\"].apply(\r\n",
        "    lambda c: \". \".join(c[0][\"groupingSets\"][0][\"attributes\"][\"ingredients\"])\r\n",
        ")\r\n",
        "\r\n",
        "df[\"text\"] = df[[\"description\", \"regulated_product_name\", \"ingredients\"]].apply(\r\n",
        "    lambda s: \". \".join(s[s.notna()]),\r\n",
        "    axis=1,\r\n",
        ")\r\n",
        "\r\n",
        "df[\"storage_env\"] = df[\"languages\"].apply(\r\n",
        "    lambda c: c[0][\"groupingSets\"][0][\"attributes\"][\"storageType\"][0][\"lookupValue\"]\r\n",
        ")\r\n",
        "\r\n",
        "df[\"pack_type\"] = df[\"languages\"].apply(\r\n",
        "    lambda c: c[0][\"groupingSets\"][0][\"attributes\"][\"packType\"][0][\"lookupValue\"]\r\n",
        ")\r\n",
        "\r\n",
        "\r\n",
        "def parse_cooking_guidelines(c):\r\n",
        "    try:\r\n",
        "        return [\r\n",
        "            item[\"nameValue\"]\r\n",
        "            for item in c[0][\"groupingSets\"][0][\"attributes\"][\"cookingGuidelines\"]\r\n",
        "        ]\r\n",
        "\r\n",
        "    except KeyError:\r\n",
        "        return [\"None\"]\r\n",
        "\r\n",
        "\r\n",
        "df[\"cooking_type\"] = df[\"languages\"].apply(parse_cooking_guidelines)\r\n",
        "\r\n",
        "df = df[\r\n",
        "    [\r\n",
        "        \"category_level_1\",\r\n",
        "        \"category_level_2\",\r\n",
        "        \"storage_env\",\r\n",
        "        \"pack_type\",\r\n",
        "        \"cooking_type\",\r\n",
        "        \"text\",\r\n",
        "    ]\r\n",
        "]\r\n",
        "\r\n",
        "df.head()"
      ],
      "outputs": [
        {
          "output_type": "execute_result",
          "data": {
            "text/plain": [
              "         category_level_1 category_level_2 storage_env    pack_type  \\\n",
              "pvid                                                                  \n",
              "6662781  Ready Made Foods            Meals     Chilled  Heat Sealed   \n",
              "8020100  Ready Made Foods           Snacks     Chilled          Tub   \n",
              "8241820  Ready Made Foods            Meals     Chilled       Sleeve   \n",
              "\n",
              "                                              cooking_type  \\\n",
              "pvid                                                         \n",
              "6662781                                             [None]   \n",
              "8020100                                             [None]   \n",
              "8241820  [Cooking Instructions, Microwave, Microwave, O...   \n",
              "\n",
              "                                                      text  \n",
              "pvid                                                        \n",
              "6662781  Taste Inc. 100% Chargrilled Chicken Fillet Spi...  \n",
              "8020100  Morrisons The Best Moroccan Inspired Couscous ...  \n",
              "8241820  Sainsbury's Classics Braised Beef & Mash 400g....  "
            ],
            "text/html": [
              "<div>\n",
              "<style scoped>\n",
              "    .dataframe tbody tr th:only-of-type {\n",
              "        vertical-align: middle;\n",
              "    }\n",
              "\n",
              "    .dataframe tbody tr th {\n",
              "        vertical-align: top;\n",
              "    }\n",
              "\n",
              "    .dataframe thead th {\n",
              "        text-align: right;\n",
              "    }\n",
              "</style>\n",
              "<table border=\"1\" class=\"dataframe\">\n",
              "  <thead>\n",
              "    <tr style=\"text-align: right;\">\n",
              "      <th></th>\n",
              "      <th>category_level_1</th>\n",
              "      <th>category_level_2</th>\n",
              "      <th>storage_env</th>\n",
              "      <th>pack_type</th>\n",
              "      <th>cooking_type</th>\n",
              "      <th>text</th>\n",
              "    </tr>\n",
              "    <tr>\n",
              "      <th>pvid</th>\n",
              "      <th></th>\n",
              "      <th></th>\n",
              "      <th></th>\n",
              "      <th></th>\n",
              "      <th></th>\n",
              "      <th></th>\n",
              "    </tr>\n",
              "  </thead>\n",
              "  <tbody>\n",
              "    <tr>\n",
              "      <th>6662781</th>\n",
              "      <td>Ready Made Foods</td>\n",
              "      <td>Meals</td>\n",
              "      <td>Chilled</td>\n",
              "      <td>Heat Sealed</td>\n",
              "      <td>[None]</td>\n",
              "      <td>Taste Inc. 100% Chargrilled Chicken Fillet Spi...</td>\n",
              "    </tr>\n",
              "    <tr>\n",
              "      <th>8020100</th>\n",
              "      <td>Ready Made Foods</td>\n",
              "      <td>Snacks</td>\n",
              "      <td>Chilled</td>\n",
              "      <td>Tub</td>\n",
              "      <td>[None]</td>\n",
              "      <td>Morrisons The Best Moroccan Inspired Couscous ...</td>\n",
              "    </tr>\n",
              "    <tr>\n",
              "      <th>8241820</th>\n",
              "      <td>Ready Made Foods</td>\n",
              "      <td>Meals</td>\n",
              "      <td>Chilled</td>\n",
              "      <td>Sleeve</td>\n",
              "      <td>[Cooking Instructions, Microwave, Microwave, O...</td>\n",
              "      <td>Sainsbury's Classics Braised Beef &amp; Mash 400g....</td>\n",
              "    </tr>\n",
              "  </tbody>\n",
              "</table>\n",
              "</div>"
            ]
          },
          "metadata": {},
          "execution_count": 3
        },
        {
          "output_type": "display_data",
          "data": {
            "text/plain": [
              "<IPython.core.display.Javascript object>"
            ],
            "application/javascript": "\n            setTimeout(function() {\n                var nbb_cell_id = 3;\n                var nbb_unformatted_code = \"df[\\\"category_level_1\\\"] = df[\\\"categories\\\"].apply(\\r\\n    lambda c: c[0][\\\"description\\\"],\\r\\n)\\r\\n\\r\\ndf[\\\"category_level_2\\\"] = df[\\\"categories\\\"].apply(\\r\\n    lambda c: c[1][\\\"description\\\"],\\r\\n)\\r\\n\\r\\ndf[\\\"regulated_product_name\\\"] = df[\\\"languages\\\"].apply(\\r\\n    lambda c: c[0][\\\"groupingSets\\\"][0][\\\"attributes\\\"][\\\"regulatedProductName\\\"]\\r\\n)\\r\\n\\r\\ndf[\\\"ingredients\\\"] = df[\\\"languages\\\"].apply(\\r\\n    lambda c: \\\". \\\".join(c[0][\\\"groupingSets\\\"][0][\\\"attributes\\\"][\\\"ingredients\\\"])\\r\\n)\\r\\n\\r\\ndf[\\\"text\\\"] = df[[\\\"description\\\", \\\"regulated_product_name\\\", \\\"ingredients\\\"]].apply(\\r\\n    lambda s: \\\". \\\".join(s[s.notna()]),\\r\\n    axis=1,\\r\\n)\\r\\n\\r\\ndf[\\\"storage_env\\\"] = df[\\\"languages\\\"].apply(\\r\\n    lambda c: c[0][\\\"groupingSets\\\"][0][\\\"attributes\\\"][\\\"storageType\\\"][0][\\\"lookupValue\\\"]\\r\\n)\\r\\n\\r\\ndf[\\\"pack_type\\\"] = df[\\\"languages\\\"].apply(\\r\\n    lambda c: c[0][\\\"groupingSets\\\"][0][\\\"attributes\\\"][\\\"packType\\\"][0][\\\"lookupValue\\\"]\\r\\n)\\r\\n\\r\\n\\r\\ndef parse_cooking_guidelines(c):\\r\\n    try:\\r\\n        return [\\r\\n            item[\\\"nameValue\\\"]\\r\\n            for item in c[0][\\\"groupingSets\\\"][0][\\\"attributes\\\"][\\\"cookingGuidelines\\\"]\\r\\n        ]\\r\\n\\r\\n    except KeyError:\\r\\n        return [\\\"None\\\"]\\r\\n\\r\\n\\r\\ndf[\\\"cooking_type\\\"] = df[\\\"languages\\\"].apply(parse_cooking_guidelines)\\r\\n\\r\\ndf = df[\\r\\n    [\\r\\n        \\\"category_level_1\\\",\\r\\n        \\\"category_level_2\\\",\\r\\n        \\\"storage_env\\\",\\r\\n        \\\"pack_type\\\",\\r\\n        \\\"cooking_type\\\",\\r\\n        \\\"text\\\",\\r\\n    ]\\r\\n]\\r\\n\\r\\ndf.head()\";\n                var nbb_formatted_code = \"df[\\\"category_level_1\\\"] = df[\\\"categories\\\"].apply(\\n    lambda c: c[0][\\\"description\\\"],\\n)\\n\\ndf[\\\"category_level_2\\\"] = df[\\\"categories\\\"].apply(\\n    lambda c: c[1][\\\"description\\\"],\\n)\\n\\ndf[\\\"regulated_product_name\\\"] = df[\\\"languages\\\"].apply(\\n    lambda c: c[0][\\\"groupingSets\\\"][0][\\\"attributes\\\"][\\\"regulatedProductName\\\"]\\n)\\n\\ndf[\\\"ingredients\\\"] = df[\\\"languages\\\"].apply(\\n    lambda c: \\\". \\\".join(c[0][\\\"groupingSets\\\"][0][\\\"attributes\\\"][\\\"ingredients\\\"])\\n)\\n\\ndf[\\\"text\\\"] = df[[\\\"description\\\", \\\"regulated_product_name\\\", \\\"ingredients\\\"]].apply(\\n    lambda s: \\\". \\\".join(s[s.notna()]),\\n    axis=1,\\n)\\n\\ndf[\\\"storage_env\\\"] = df[\\\"languages\\\"].apply(\\n    lambda c: c[0][\\\"groupingSets\\\"][0][\\\"attributes\\\"][\\\"storageType\\\"][0][\\\"lookupValue\\\"]\\n)\\n\\ndf[\\\"pack_type\\\"] = df[\\\"languages\\\"].apply(\\n    lambda c: c[0][\\\"groupingSets\\\"][0][\\\"attributes\\\"][\\\"packType\\\"][0][\\\"lookupValue\\\"]\\n)\\n\\n\\ndef parse_cooking_guidelines(c):\\n    try:\\n        return [\\n            item[\\\"nameValue\\\"]\\n            for item in c[0][\\\"groupingSets\\\"][0][\\\"attributes\\\"][\\\"cookingGuidelines\\\"]\\n        ]\\n    except KeyError:\\n        return [\\\"None\\\"]\\n\\n\\ndf[\\\"cooking_type\\\"] = df[\\\"languages\\\"].apply(parse_cooking_guidelines)\\n\\ndf = df[\\n    [\\n        \\\"category_level_1\\\",\\n        \\\"category_level_2\\\",\\n        \\\"storage_env\\\",\\n        \\\"pack_type\\\",\\n        \\\"cooking_type\\\",\\n        \\\"text\\\",\\n    ]\\n]\\n\\ndf.head()\";\n                var nbb_cells = Jupyter.notebook.get_cells();\n                for (var i = 0; i < nbb_cells.length; ++i) {\n                    if (nbb_cells[i].input_prompt_number == nbb_cell_id) {\n                        if (nbb_cells[i].get_text() == nbb_unformatted_code) {\n                             nbb_cells[i].set_text(nbb_formatted_code);\n                        }\n                        break;\n                    }\n                }\n            }, 500);\n            "
          },
          "metadata": {}
        }
      ],
      "metadata": {}
    },
    {
      "cell_type": "markdown",
      "source": [
        "#### - Load label encoder to get label names"
      ],
      "metadata": {}
    },
    {
      "cell_type": "code",
      "execution_count": 4,
      "source": [
        "le = joblib.load(\r\n",
        "    Path(\r\n",
        "        \"sklearn\",\r\n",
        "        \"models-full\",\r\n",
        "        # \"models-simple\",\r\n",
        "        \"LabelEncoder.pkl\",\r\n",
        "    )\r\n",
        ")"
      ],
      "outputs": [
        {
          "output_type": "display_data",
          "data": {
            "text/plain": [
              "<IPython.core.display.Javascript object>"
            ],
            "application/javascript": "\n            setTimeout(function() {\n                var nbb_cell_id = 4;\n                var nbb_unformatted_code = \"le = joblib.load(\\r\\n    Path(\\r\\n        \\\"sklearn\\\",\\r\\n        # \\\"models-full\\\",\\r\\n        # \\\"models-simple\\\",\\r\\n        \\\"models\\\",\\r\\n        \\\"LabelEncoder.pkl\\\",\\r\\n    )\\r\\n)\";\n                var nbb_formatted_code = \"le = joblib.load(\\n    Path(\\n        \\\"sklearn\\\",\\n        # \\\"models-full\\\",\\n        # \\\"models-simple\\\",\\n        \\\"models\\\",\\n        \\\"LabelEncoder.pkl\\\",\\n    )\\n)\";\n                var nbb_cells = Jupyter.notebook.get_cells();\n                for (var i = 0; i < nbb_cells.length; ++i) {\n                    if (nbb_cells[i].input_prompt_number == nbb_cell_id) {\n                        if (nbb_cells[i].get_text() == nbb_unformatted_code) {\n                             nbb_cells[i].set_text(nbb_formatted_code);\n                        }\n                        break;\n                    }\n                }\n            }, 500);\n            "
          },
          "metadata": {}
        }
      ],
      "metadata": {}
    },
    {
      "cell_type": "markdown",
      "source": [
        "#### - Load VotingClassifier\n",
        "- Make predictions\n",
        "- Transform labels back to original encoding"
      ],
      "metadata": {}
    },
    {
      "cell_type": "code",
      "execution_count": 6,
      "source": [
        "vc = joblib.load(\r\n",
        "    Path(\r\n",
        "        \"sklearn\",\r\n",
        "        \"models-full\",\r\n",
        "        # \"models-simple\",\r\n",
        "        \"VotingClassifier.pkl\",\r\n",
        "    )\r\n",
        ")"
      ],
      "outputs": [
        {
          "output_type": "display_data",
          "data": {
            "text/plain": [
              "<IPython.core.display.Javascript object>"
            ],
            "application/javascript": "\n            setTimeout(function() {\n                var nbb_cell_id = 6;\n                var nbb_unformatted_code = \"vc = joblib.load(\\r\\n    Path(\\r\\n        \\\"sklearn\\\",\\r\\n        \\\"models\\\",\\r\\n        # \\\"models-full\\\",\\r\\n        # \\\"models-simple\\\",\\r\\n        \\\"VotingClassifier.pkl\\\",\\r\\n    )\\r\\n)\";\n                var nbb_formatted_code = \"vc = joblib.load(\\n    Path(\\n        \\\"sklearn\\\",\\n        \\\"models\\\",\\n        # \\\"models-full\\\",\\n        # \\\"models-simple\\\",\\n        \\\"VotingClassifier.pkl\\\",\\n    )\\n)\";\n                var nbb_cells = Jupyter.notebook.get_cells();\n                for (var i = 0; i < nbb_cells.length; ++i) {\n                    if (nbb_cells[i].input_prompt_number == nbb_cell_id) {\n                        if (nbb_cells[i].get_text() == nbb_unformatted_code) {\n                             nbb_cells[i].set_text(nbb_formatted_code);\n                        }\n                        break;\n                    }\n                }\n            }, 500);\n            "
          },
          "metadata": {}
        }
      ],
      "metadata": {}
    },
    {
      "cell_type": "code",
      "execution_count": null,
      "source": [
        "df['predict'] = le.inverse_transform(vc.predict(df))"
      ],
      "outputs": [],
      "metadata": {}
    }
  ],
  "metadata": {
    "kernelspec": {
      "name": "python3",
      "display_name": "Python 3.8.2 64-bit ('.venv')"
    },
    "language_info": {
      "name": "python",
      "version": "3.8.2",
      "mimetype": "text/x-python",
      "codemirror_mode": {
        "name": "ipython",
        "version": 3
      },
      "pygments_lexer": "ipython3",
      "nbconvert_exporter": "python",
      "file_extension": ".py"
    },
    "kernel_info": {
      "name": "python38-azureml"
    },
    "microsoft": {
      "host": {
        "AzureML": {
          "notebookHasBeenCompleted": true
        }
      }
    },
    "nteract": {
      "version": "nteract-front-end@1.0.0"
    },
    "interpreter": {
      "hash": "506541454f2e71c9fdce11a02307324979c166298fc178c1da6e1bfef7c64bca"
    }
  },
  "nbformat": 4,
  "nbformat_minor": 2
}